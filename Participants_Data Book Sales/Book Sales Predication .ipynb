{
 "cells": [
  {
   "cell_type": "code",
   "execution_count": 1,
   "metadata": {},
   "outputs": [],
   "source": [
    "import warnings\n",
    "warnings.filterwarnings('ignore')"
   ]
  },
  {
   "cell_type": "code",
   "execution_count": 2,
   "metadata": {},
   "outputs": [],
   "source": [
    "import pandas as pd\n",
    "import numpy as np\n",
    "import matplotlib.pyplot as plt\n",
    "import seaborn as sns\n",
    "%matplotlib inline"
   ]
  },
  {
   "cell_type": "code",
   "execution_count": 74,
   "metadata": {},
   "outputs": [
    {
     "data": {
      "text/plain": [
       "((6237, 9), (1560, 8))"
      ]
     },
     "execution_count": 74,
     "metadata": {},
     "output_type": "execute_result"
    }
   ],
   "source": [
    "train = pd.read_excel(\"E:\\\\Hackthon\\\\Participants_Data Book Sales\\\\Data_Train.xlsx\")\n",
    "test = pd.read_excel(\"E:\\\\Hackthon\\\\Participants_Data Book Sales\\\\Data_Test.xlsx\")\n",
    "\n",
    "train.shape, test.shape"
   ]
  },
  {
   "cell_type": "code",
   "execution_count": 75,
   "metadata": {},
   "outputs": [
    {
     "data": {
      "text/html": [
       "<div>\n",
       "<style scoped>\n",
       "    .dataframe tbody tr th:only-of-type {\n",
       "        vertical-align: middle;\n",
       "    }\n",
       "\n",
       "    .dataframe tbody tr th {\n",
       "        vertical-align: top;\n",
       "    }\n",
       "\n",
       "    .dataframe thead th {\n",
       "        text-align: right;\n",
       "    }\n",
       "</style>\n",
       "<table border=\"1\" class=\"dataframe\">\n",
       "  <thead>\n",
       "    <tr style=\"text-align: right;\">\n",
       "      <th></th>\n",
       "      <th>Title</th>\n",
       "      <th>Author</th>\n",
       "      <th>Edition</th>\n",
       "      <th>Reviews</th>\n",
       "      <th>Ratings</th>\n",
       "      <th>Synopsis</th>\n",
       "      <th>Genre</th>\n",
       "      <th>BookCategory</th>\n",
       "      <th>Price</th>\n",
       "    </tr>\n",
       "  </thead>\n",
       "  <tbody>\n",
       "    <tr>\n",
       "      <td>0</td>\n",
       "      <td>The Prisoner's Gold (The Hunters 3)</td>\n",
       "      <td>Chris Kuzneski</td>\n",
       "      <td>Paperback,– 10 Mar 2016</td>\n",
       "      <td>4.0 out of 5 stars</td>\n",
       "      <td>8 customer reviews</td>\n",
       "      <td>THE HUNTERS return in their third brilliant no...</td>\n",
       "      <td>Action &amp; Adventure (Books)</td>\n",
       "      <td>Action &amp; Adventure</td>\n",
       "      <td>220.00</td>\n",
       "    </tr>\n",
       "    <tr>\n",
       "      <td>1</td>\n",
       "      <td>Guru Dutt: A Tragedy in Three Acts</td>\n",
       "      <td>Arun Khopkar</td>\n",
       "      <td>Paperback,– 7 Nov 2012</td>\n",
       "      <td>3.9 out of 5 stars</td>\n",
       "      <td>14 customer reviews</td>\n",
       "      <td>A layered portrait of a troubled genius for wh...</td>\n",
       "      <td>Cinema &amp; Broadcast (Books)</td>\n",
       "      <td>Biographies, Diaries &amp; True Accounts</td>\n",
       "      <td>202.93</td>\n",
       "    </tr>\n",
       "    <tr>\n",
       "      <td>2</td>\n",
       "      <td>Leviathan (Penguin Classics)</td>\n",
       "      <td>Thomas Hobbes</td>\n",
       "      <td>Paperback,– 25 Feb 1982</td>\n",
       "      <td>4.8 out of 5 stars</td>\n",
       "      <td>6 customer reviews</td>\n",
       "      <td>\"During the time men live without a common Pow...</td>\n",
       "      <td>International Relations</td>\n",
       "      <td>Humour</td>\n",
       "      <td>299.00</td>\n",
       "    </tr>\n",
       "    <tr>\n",
       "      <td>3</td>\n",
       "      <td>A Pocket Full of Rye (Miss Marple)</td>\n",
       "      <td>Agatha Christie</td>\n",
       "      <td>Paperback,– 5 Oct 2017</td>\n",
       "      <td>4.1 out of 5 stars</td>\n",
       "      <td>13 customer reviews</td>\n",
       "      <td>A handful of grain is found in the pocket of a...</td>\n",
       "      <td>Contemporary Fiction (Books)</td>\n",
       "      <td>Crime, Thriller &amp; Mystery</td>\n",
       "      <td>180.00</td>\n",
       "    </tr>\n",
       "    <tr>\n",
       "      <td>4</td>\n",
       "      <td>LIFE 70 Years of Extraordinary Photography</td>\n",
       "      <td>Editors of Life</td>\n",
       "      <td>Hardcover,– 10 Oct 2006</td>\n",
       "      <td>5.0 out of 5 stars</td>\n",
       "      <td>1 customer review</td>\n",
       "      <td>For seven decades, \"Life\" has been thrilling t...</td>\n",
       "      <td>Photography Textbooks</td>\n",
       "      <td>Arts, Film &amp; Photography</td>\n",
       "      <td>965.62</td>\n",
       "    </tr>\n",
       "  </tbody>\n",
       "</table>\n",
       "</div>"
      ],
      "text/plain": [
       "                                        Title           Author  \\\n",
       "0         The Prisoner's Gold (The Hunters 3)   Chris Kuzneski   \n",
       "1          Guru Dutt: A Tragedy in Three Acts     Arun Khopkar   \n",
       "2                Leviathan (Penguin Classics)    Thomas Hobbes   \n",
       "3          A Pocket Full of Rye (Miss Marple)  Agatha Christie   \n",
       "4  LIFE 70 Years of Extraordinary Photography  Editors of Life   \n",
       "\n",
       "                   Edition             Reviews              Ratings  \\\n",
       "0  Paperback,– 10 Mar 2016  4.0 out of 5 stars   8 customer reviews   \n",
       "1   Paperback,– 7 Nov 2012  3.9 out of 5 stars  14 customer reviews   \n",
       "2  Paperback,– 25 Feb 1982  4.8 out of 5 stars   6 customer reviews   \n",
       "3   Paperback,– 5 Oct 2017  4.1 out of 5 stars  13 customer reviews   \n",
       "4  Hardcover,– 10 Oct 2006  5.0 out of 5 stars    1 customer review   \n",
       "\n",
       "                                            Synopsis  \\\n",
       "0  THE HUNTERS return in their third brilliant no...   \n",
       "1  A layered portrait of a troubled genius for wh...   \n",
       "2  \"During the time men live without a common Pow...   \n",
       "3  A handful of grain is found in the pocket of a...   \n",
       "4  For seven decades, \"Life\" has been thrilling t...   \n",
       "\n",
       "                          Genre                          BookCategory   Price  \n",
       "0    Action & Adventure (Books)                    Action & Adventure  220.00  \n",
       "1    Cinema & Broadcast (Books)  Biographies, Diaries & True Accounts  202.93  \n",
       "2       International Relations                                Humour  299.00  \n",
       "3  Contemporary Fiction (Books)             Crime, Thriller & Mystery  180.00  \n",
       "4         Photography Textbooks              Arts, Film & Photography  965.62  "
      ]
     },
     "execution_count": 75,
     "metadata": {},
     "output_type": "execute_result"
    }
   ],
   "source": [
    "train.head()"
   ]
  },
  {
   "cell_type": "code",
   "execution_count": 76,
   "metadata": {},
   "outputs": [
    {
     "data": {
      "text/html": [
       "<div>\n",
       "<style scoped>\n",
       "    .dataframe tbody tr th:only-of-type {\n",
       "        vertical-align: middle;\n",
       "    }\n",
       "\n",
       "    .dataframe tbody tr th {\n",
       "        vertical-align: top;\n",
       "    }\n",
       "\n",
       "    .dataframe thead th {\n",
       "        text-align: right;\n",
       "    }\n",
       "</style>\n",
       "<table border=\"1\" class=\"dataframe\">\n",
       "  <thead>\n",
       "    <tr style=\"text-align: right;\">\n",
       "      <th></th>\n",
       "      <th>Title</th>\n",
       "      <th>Author</th>\n",
       "      <th>Edition</th>\n",
       "      <th>Reviews</th>\n",
       "      <th>Ratings</th>\n",
       "      <th>Synopsis</th>\n",
       "      <th>Genre</th>\n",
       "      <th>BookCategory</th>\n",
       "    </tr>\n",
       "  </thead>\n",
       "  <tbody>\n",
       "    <tr>\n",
       "      <td>0</td>\n",
       "      <td>The Complete Sherlock Holmes: 2 Boxes sets</td>\n",
       "      <td>Sir Arthur Conan Doyle</td>\n",
       "      <td>Mass Market Paperback,– 1 Oct 1986</td>\n",
       "      <td>4.4 out of 5 stars</td>\n",
       "      <td>960 customer reviews</td>\n",
       "      <td>A collection of entire body of work of the She...</td>\n",
       "      <td>Short Stories (Books)</td>\n",
       "      <td>Crime, Thriller &amp; Mystery</td>\n",
       "    </tr>\n",
       "    <tr>\n",
       "      <td>1</td>\n",
       "      <td>Learn Docker - Fundamentals of Docker 18.x: Ev...</td>\n",
       "      <td>Gabriel N. Schenker</td>\n",
       "      <td>Paperback,– Import, 26 Apr 2018</td>\n",
       "      <td>5.0 out of 5 stars</td>\n",
       "      <td>1 customer review</td>\n",
       "      <td>Enhance your software deployment workflow usin...</td>\n",
       "      <td>Operating Systems Textbooks</td>\n",
       "      <td>Computing, Internet &amp; Digital Media</td>\n",
       "    </tr>\n",
       "    <tr>\n",
       "      <td>2</td>\n",
       "      <td>Big Girl</td>\n",
       "      <td>Danielle Steel</td>\n",
       "      <td>Paperback,– 17 Mar 2011</td>\n",
       "      <td>5.0 out of 5 stars</td>\n",
       "      <td>4 customer reviews</td>\n",
       "      <td>'Watch out, world. Here I come!'\\nFor Victoria...</td>\n",
       "      <td>Romance (Books)</td>\n",
       "      <td>Romance</td>\n",
       "    </tr>\n",
       "    <tr>\n",
       "      <td>3</td>\n",
       "      <td>Think Python: How to Think Like a Computer Sci...</td>\n",
       "      <td>Allen B. Downey</td>\n",
       "      <td>Paperback,– 2016</td>\n",
       "      <td>4.1 out of 5 stars</td>\n",
       "      <td>11 customer reviews</td>\n",
       "      <td>If you want to learn how to program, working w...</td>\n",
       "      <td>Programming &amp; Software Development (Books)</td>\n",
       "      <td>Computing, Internet &amp; Digital Media</td>\n",
       "    </tr>\n",
       "    <tr>\n",
       "      <td>4</td>\n",
       "      <td>Oxford Word Skills: Advanced - Idioms &amp; Phrasa...</td>\n",
       "      <td>Redman Gairns</td>\n",
       "      <td>Paperback,– 26 Dec 2011</td>\n",
       "      <td>4.4 out of 5 stars</td>\n",
       "      <td>9 customer reviews</td>\n",
       "      <td>Learn and practise the verbs, prepositions and...</td>\n",
       "      <td>Linguistics (Books)</td>\n",
       "      <td>Language, Linguistics &amp; Writing</td>\n",
       "    </tr>\n",
       "  </tbody>\n",
       "</table>\n",
       "</div>"
      ],
      "text/plain": [
       "                                               Title                  Author  \\\n",
       "0         The Complete Sherlock Holmes: 2 Boxes sets  Sir Arthur Conan Doyle   \n",
       "1  Learn Docker - Fundamentals of Docker 18.x: Ev...     Gabriel N. Schenker   \n",
       "2                                           Big Girl          Danielle Steel   \n",
       "3  Think Python: How to Think Like a Computer Sci...         Allen B. Downey   \n",
       "4  Oxford Word Skills: Advanced - Idioms & Phrasa...           Redman Gairns   \n",
       "\n",
       "                              Edition             Reviews  \\\n",
       "0  Mass Market Paperback,– 1 Oct 1986  4.4 out of 5 stars   \n",
       "1     Paperback,– Import, 26 Apr 2018  5.0 out of 5 stars   \n",
       "2             Paperback,– 17 Mar 2011  5.0 out of 5 stars   \n",
       "3                    Paperback,– 2016  4.1 out of 5 stars   \n",
       "4             Paperback,– 26 Dec 2011  4.4 out of 5 stars   \n",
       "\n",
       "                Ratings                                           Synopsis  \\\n",
       "0  960 customer reviews  A collection of entire body of work of the She...   \n",
       "1     1 customer review  Enhance your software deployment workflow usin...   \n",
       "2    4 customer reviews  'Watch out, world. Here I come!'\\nFor Victoria...   \n",
       "3   11 customer reviews  If you want to learn how to program, working w...   \n",
       "4    9 customer reviews  Learn and practise the verbs, prepositions and...   \n",
       "\n",
       "                                        Genre  \\\n",
       "0                       Short Stories (Books)   \n",
       "1                 Operating Systems Textbooks   \n",
       "2                             Romance (Books)   \n",
       "3  Programming & Software Development (Books)   \n",
       "4                         Linguistics (Books)   \n",
       "\n",
       "                          BookCategory  \n",
       "0            Crime, Thriller & Mystery  \n",
       "1  Computing, Internet & Digital Media  \n",
       "2                              Romance  \n",
       "3  Computing, Internet & Digital Media  \n",
       "4      Language, Linguistics & Writing  "
      ]
     },
     "execution_count": 76,
     "metadata": {},
     "output_type": "execute_result"
    }
   ],
   "source": [
    "test.head()"
   ]
  },
  {
   "cell_type": "code",
   "execution_count": 77,
   "metadata": {},
   "outputs": [
    {
     "data": {
      "text/plain": [
       "(7797, 9)"
      ]
     },
     "execution_count": 77,
     "metadata": {},
     "output_type": "execute_result"
    }
   ],
   "source": [
    "data = pd.concat([train, test], axis = 0)\n",
    "data.shape"
   ]
  },
  {
   "cell_type": "code",
   "execution_count": 78,
   "metadata": {},
   "outputs": [
    {
     "data": {
      "text/html": [
       "<div>\n",
       "<style scoped>\n",
       "    .dataframe tbody tr th:only-of-type {\n",
       "        vertical-align: middle;\n",
       "    }\n",
       "\n",
       "    .dataframe tbody tr th {\n",
       "        vertical-align: top;\n",
       "    }\n",
       "\n",
       "    .dataframe thead th {\n",
       "        text-align: right;\n",
       "    }\n",
       "</style>\n",
       "<table border=\"1\" class=\"dataframe\">\n",
       "  <thead>\n",
       "    <tr style=\"text-align: right;\">\n",
       "      <th></th>\n",
       "      <th>Author</th>\n",
       "      <th>BookCategory</th>\n",
       "      <th>Edition</th>\n",
       "      <th>Genre</th>\n",
       "      <th>Price</th>\n",
       "      <th>Ratings</th>\n",
       "      <th>Reviews</th>\n",
       "      <th>Synopsis</th>\n",
       "      <th>Title</th>\n",
       "    </tr>\n",
       "  </thead>\n",
       "  <tbody>\n",
       "    <tr>\n",
       "      <td>0</td>\n",
       "      <td>Chris Kuzneski</td>\n",
       "      <td>Action &amp; Adventure</td>\n",
       "      <td>Paperback,– 10 Mar 2016</td>\n",
       "      <td>Action &amp; Adventure (Books)</td>\n",
       "      <td>220.00</td>\n",
       "      <td>8 customer reviews</td>\n",
       "      <td>4.0 out of 5 stars</td>\n",
       "      <td>THE HUNTERS return in their third brilliant no...</td>\n",
       "      <td>The Prisoner's Gold (The Hunters 3)</td>\n",
       "    </tr>\n",
       "    <tr>\n",
       "      <td>1</td>\n",
       "      <td>Arun Khopkar</td>\n",
       "      <td>Biographies, Diaries &amp; True Accounts</td>\n",
       "      <td>Paperback,– 7 Nov 2012</td>\n",
       "      <td>Cinema &amp; Broadcast (Books)</td>\n",
       "      <td>202.93</td>\n",
       "      <td>14 customer reviews</td>\n",
       "      <td>3.9 out of 5 stars</td>\n",
       "      <td>A layered portrait of a troubled genius for wh...</td>\n",
       "      <td>Guru Dutt: A Tragedy in Three Acts</td>\n",
       "    </tr>\n",
       "    <tr>\n",
       "      <td>2</td>\n",
       "      <td>Thomas Hobbes</td>\n",
       "      <td>Humour</td>\n",
       "      <td>Paperback,– 25 Feb 1982</td>\n",
       "      <td>International Relations</td>\n",
       "      <td>299.00</td>\n",
       "      <td>6 customer reviews</td>\n",
       "      <td>4.8 out of 5 stars</td>\n",
       "      <td>\"During the time men live without a common Pow...</td>\n",
       "      <td>Leviathan (Penguin Classics)</td>\n",
       "    </tr>\n",
       "    <tr>\n",
       "      <td>3</td>\n",
       "      <td>Agatha Christie</td>\n",
       "      <td>Crime, Thriller &amp; Mystery</td>\n",
       "      <td>Paperback,– 5 Oct 2017</td>\n",
       "      <td>Contemporary Fiction (Books)</td>\n",
       "      <td>180.00</td>\n",
       "      <td>13 customer reviews</td>\n",
       "      <td>4.1 out of 5 stars</td>\n",
       "      <td>A handful of grain is found in the pocket of a...</td>\n",
       "      <td>A Pocket Full of Rye (Miss Marple)</td>\n",
       "    </tr>\n",
       "    <tr>\n",
       "      <td>4</td>\n",
       "      <td>Editors of Life</td>\n",
       "      <td>Arts, Film &amp; Photography</td>\n",
       "      <td>Hardcover,– 10 Oct 2006</td>\n",
       "      <td>Photography Textbooks</td>\n",
       "      <td>965.62</td>\n",
       "      <td>1 customer review</td>\n",
       "      <td>5.0 out of 5 stars</td>\n",
       "      <td>For seven decades, \"Life\" has been thrilling t...</td>\n",
       "      <td>LIFE 70 Years of Extraordinary Photography</td>\n",
       "    </tr>\n",
       "    <tr>\n",
       "      <td>5</td>\n",
       "      <td>Danny Dreyer</td>\n",
       "      <td>Sports</td>\n",
       "      <td>Paperback,– 5 May 2009</td>\n",
       "      <td>Healthy Living &amp; Wellness (Books)</td>\n",
       "      <td>900.00</td>\n",
       "      <td>8 customer reviews</td>\n",
       "      <td>4.5 out of 5 stars</td>\n",
       "      <td>The revised edition of the bestselling ChiRunn...</td>\n",
       "      <td>ChiRunning: A Revolutionary Approach to Effort...</td>\n",
       "    </tr>\n",
       "    <tr>\n",
       "      <td>6</td>\n",
       "      <td>Agatha Christie</td>\n",
       "      <td>Crime, Thriller &amp; Mystery</td>\n",
       "      <td>Paperback,– 5 Oct 2017</td>\n",
       "      <td>Crime, Thriller &amp; Mystery (Books)</td>\n",
       "      <td>224.00</td>\n",
       "      <td>72 customer reviews</td>\n",
       "      <td>4.4 out of 5 stars</td>\n",
       "      <td>Agatha Christie’s most exotic murder mystery\\n...</td>\n",
       "      <td>Death on the Nile (Poirot)</td>\n",
       "    </tr>\n",
       "    <tr>\n",
       "      <td>7</td>\n",
       "      <td>Sivananda Yoga Vedanta Centre</td>\n",
       "      <td>Sports</td>\n",
       "      <td>Hardcover,– Import, 1 Mar 2018</td>\n",
       "      <td>Sports Training &amp; Coaching (Books)</td>\n",
       "      <td>836.00</td>\n",
       "      <td>16 customer reviews</td>\n",
       "      <td>4.7 out of 5 stars</td>\n",
       "      <td>Achieve a healthy body, mental alertness, and ...</td>\n",
       "      <td>Yoga Your Home Practice Companion: A Complete ...</td>\n",
       "    </tr>\n",
       "    <tr>\n",
       "      <td>8</td>\n",
       "      <td>M S Ashokan</td>\n",
       "      <td>Biographies, Diaries &amp; True Accounts</td>\n",
       "      <td>Paperback,– 15 Dec 2015</td>\n",
       "      <td>Biographies &amp; Autobiographies (Books)</td>\n",
       "      <td>130.00</td>\n",
       "      <td>111 customer reviews</td>\n",
       "      <td>4.2 out of 5 stars</td>\n",
       "      <td>Karmayogi is the dramatic and inspiring story ...</td>\n",
       "      <td>Karmayogi: A Biography of E. Sreedharan</td>\n",
       "    </tr>\n",
       "    <tr>\n",
       "      <td>9</td>\n",
       "      <td>Maurice Druon</td>\n",
       "      <td>Action &amp; Adventure</td>\n",
       "      <td>Paperback,– 26 Mar 2013</td>\n",
       "      <td>Action &amp; Adventure (Books)</td>\n",
       "      <td>695.00</td>\n",
       "      <td>1 customer review</td>\n",
       "      <td>4.0 out of 5 stars</td>\n",
       "      <td>‘This is the original game of thrones’ George ...</td>\n",
       "      <td>The Iron King (The Accursed Kings, Book 1)</td>\n",
       "    </tr>\n",
       "  </tbody>\n",
       "</table>\n",
       "</div>"
      ],
      "text/plain": [
       "                          Author                          BookCategory  \\\n",
       "0                 Chris Kuzneski                    Action & Adventure   \n",
       "1                   Arun Khopkar  Biographies, Diaries & True Accounts   \n",
       "2                  Thomas Hobbes                                Humour   \n",
       "3                Agatha Christie             Crime, Thriller & Mystery   \n",
       "4                Editors of Life              Arts, Film & Photography   \n",
       "5                   Danny Dreyer                                Sports   \n",
       "6                Agatha Christie             Crime, Thriller & Mystery   \n",
       "7  Sivananda Yoga Vedanta Centre                                Sports   \n",
       "8                    M S Ashokan  Biographies, Diaries & True Accounts   \n",
       "9                  Maurice Druon                    Action & Adventure   \n",
       "\n",
       "                          Edition                                  Genre  \\\n",
       "0         Paperback,– 10 Mar 2016             Action & Adventure (Books)   \n",
       "1          Paperback,– 7 Nov 2012             Cinema & Broadcast (Books)   \n",
       "2         Paperback,– 25 Feb 1982                International Relations   \n",
       "3          Paperback,– 5 Oct 2017           Contemporary Fiction (Books)   \n",
       "4         Hardcover,– 10 Oct 2006                  Photography Textbooks   \n",
       "5          Paperback,– 5 May 2009      Healthy Living & Wellness (Books)   \n",
       "6          Paperback,– 5 Oct 2017      Crime, Thriller & Mystery (Books)   \n",
       "7  Hardcover,– Import, 1 Mar 2018     Sports Training & Coaching (Books)   \n",
       "8         Paperback,– 15 Dec 2015  Biographies & Autobiographies (Books)   \n",
       "9         Paperback,– 26 Mar 2013             Action & Adventure (Books)   \n",
       "\n",
       "    Price               Ratings             Reviews  \\\n",
       "0  220.00    8 customer reviews  4.0 out of 5 stars   \n",
       "1  202.93   14 customer reviews  3.9 out of 5 stars   \n",
       "2  299.00    6 customer reviews  4.8 out of 5 stars   \n",
       "3  180.00   13 customer reviews  4.1 out of 5 stars   \n",
       "4  965.62     1 customer review  5.0 out of 5 stars   \n",
       "5  900.00    8 customer reviews  4.5 out of 5 stars   \n",
       "6  224.00   72 customer reviews  4.4 out of 5 stars   \n",
       "7  836.00   16 customer reviews  4.7 out of 5 stars   \n",
       "8  130.00  111 customer reviews  4.2 out of 5 stars   \n",
       "9  695.00     1 customer review  4.0 out of 5 stars   \n",
       "\n",
       "                                            Synopsis  \\\n",
       "0  THE HUNTERS return in their third brilliant no...   \n",
       "1  A layered portrait of a troubled genius for wh...   \n",
       "2  \"During the time men live without a common Pow...   \n",
       "3  A handful of grain is found in the pocket of a...   \n",
       "4  For seven decades, \"Life\" has been thrilling t...   \n",
       "5  The revised edition of the bestselling ChiRunn...   \n",
       "6  Agatha Christie’s most exotic murder mystery\\n...   \n",
       "7  Achieve a healthy body, mental alertness, and ...   \n",
       "8  Karmayogi is the dramatic and inspiring story ...   \n",
       "9  ‘This is the original game of thrones’ George ...   \n",
       "\n",
       "                                               Title  \n",
       "0                The Prisoner's Gold (The Hunters 3)  \n",
       "1                 Guru Dutt: A Tragedy in Three Acts  \n",
       "2                       Leviathan (Penguin Classics)  \n",
       "3                 A Pocket Full of Rye (Miss Marple)  \n",
       "4         LIFE 70 Years of Extraordinary Photography  \n",
       "5  ChiRunning: A Revolutionary Approach to Effort...  \n",
       "6                         Death on the Nile (Poirot)  \n",
       "7  Yoga Your Home Practice Companion: A Complete ...  \n",
       "8            Karmayogi: A Biography of E. Sreedharan  \n",
       "9         The Iron King (The Accursed Kings, Book 1)  "
      ]
     },
     "execution_count": 78,
     "metadata": {},
     "output_type": "execute_result"
    }
   ],
   "source": [
    "data.head(10)"
   ]
  },
  {
   "cell_type": "code",
   "execution_count": 79,
   "metadata": {},
   "outputs": [
    {
     "data": {
      "text/plain": [
       "Author             0\n",
       "BookCategory       0\n",
       "Edition            0\n",
       "Genre              0\n",
       "Price           1560\n",
       "Ratings            0\n",
       "Reviews            0\n",
       "Synopsis           0\n",
       "Title              0\n",
       "dtype: int64"
      ]
     },
     "execution_count": 79,
     "metadata": {},
     "output_type": "execute_result"
    }
   ],
   "source": [
    "data.isnull().sum()"
   ]
  },
  {
   "cell_type": "code",
   "execution_count": 80,
   "metadata": {},
   "outputs": [
    {
     "data": {
      "text/plain": [
       "Author           object\n",
       "BookCategory     object\n",
       "Edition          object\n",
       "Genre            object\n",
       "Price           float64\n",
       "Ratings          object\n",
       "Reviews          object\n",
       "Synopsis         object\n",
       "Title            object\n",
       "dtype: object"
      ]
     },
     "execution_count": 80,
     "metadata": {},
     "output_type": "execute_result"
    }
   ],
   "source": [
    "data.dtypes"
   ]
  },
  {
   "cell_type": "code",
   "execution_count": 81,
   "metadata": {},
   "outputs": [
    {
     "data": {
      "text/html": [
       "<div>\n",
       "<style scoped>\n",
       "    .dataframe tbody tr th:only-of-type {\n",
       "        vertical-align: middle;\n",
       "    }\n",
       "\n",
       "    .dataframe tbody tr th {\n",
       "        vertical-align: top;\n",
       "    }\n",
       "\n",
       "    .dataframe thead th {\n",
       "        text-align: right;\n",
       "    }\n",
       "</style>\n",
       "<table border=\"1\" class=\"dataframe\">\n",
       "  <thead>\n",
       "    <tr style=\"text-align: right;\">\n",
       "      <th></th>\n",
       "      <th>Author</th>\n",
       "      <th>BookCategory</th>\n",
       "      <th>Edition</th>\n",
       "      <th>Genre</th>\n",
       "      <th>Price</th>\n",
       "      <th>Ratings</th>\n",
       "      <th>Reviews</th>\n",
       "      <th>Synopsis</th>\n",
       "      <th>Title</th>\n",
       "    </tr>\n",
       "  </thead>\n",
       "  <tbody>\n",
       "    <tr>\n",
       "      <td>0</td>\n",
       "      <td>Chris Kuzneski</td>\n",
       "      <td>Action &amp; Adventure</td>\n",
       "      <td>Paperback,– 10 Mar 2016</td>\n",
       "      <td>Action &amp; Adventure (Books)</td>\n",
       "      <td>220.00</td>\n",
       "      <td>8 customer reviews</td>\n",
       "      <td>4.0 out of 5 stars</td>\n",
       "      <td>THE HUNTERS return in their third brilliant no...</td>\n",
       "      <td>The Prisoner's Gold (The Hunters 3)</td>\n",
       "    </tr>\n",
       "    <tr>\n",
       "      <td>1</td>\n",
       "      <td>Arun Khopkar</td>\n",
       "      <td>Biographies, Diaries &amp; True Accounts</td>\n",
       "      <td>Paperback,– 7 Nov 2012</td>\n",
       "      <td>Cinema &amp; Broadcast (Books)</td>\n",
       "      <td>202.93</td>\n",
       "      <td>14 customer reviews</td>\n",
       "      <td>3.9 out of 5 stars</td>\n",
       "      <td>A layered portrait of a troubled genius for wh...</td>\n",
       "      <td>Guru Dutt: A Tragedy in Three Acts</td>\n",
       "    </tr>\n",
       "    <tr>\n",
       "      <td>2</td>\n",
       "      <td>Thomas Hobbes</td>\n",
       "      <td>Humour</td>\n",
       "      <td>Paperback,– 25 Feb 1982</td>\n",
       "      <td>International Relations</td>\n",
       "      <td>299.00</td>\n",
       "      <td>6 customer reviews</td>\n",
       "      <td>4.8 out of 5 stars</td>\n",
       "      <td>\"During the time men live without a common Pow...</td>\n",
       "      <td>Leviathan (Penguin Classics)</td>\n",
       "    </tr>\n",
       "    <tr>\n",
       "      <td>3</td>\n",
       "      <td>Agatha Christie</td>\n",
       "      <td>Crime, Thriller &amp; Mystery</td>\n",
       "      <td>Paperback,– 5 Oct 2017</td>\n",
       "      <td>Contemporary Fiction (Books)</td>\n",
       "      <td>180.00</td>\n",
       "      <td>13 customer reviews</td>\n",
       "      <td>4.1 out of 5 stars</td>\n",
       "      <td>A handful of grain is found in the pocket of a...</td>\n",
       "      <td>A Pocket Full of Rye (Miss Marple)</td>\n",
       "    </tr>\n",
       "    <tr>\n",
       "      <td>4</td>\n",
       "      <td>Editors of Life</td>\n",
       "      <td>Arts, Film &amp; Photography</td>\n",
       "      <td>Hardcover,– 10 Oct 2006</td>\n",
       "      <td>Photography Textbooks</td>\n",
       "      <td>965.62</td>\n",
       "      <td>1 customer review</td>\n",
       "      <td>5.0 out of 5 stars</td>\n",
       "      <td>For seven decades, \"Life\" has been thrilling t...</td>\n",
       "      <td>LIFE 70 Years of Extraordinary Photography</td>\n",
       "    </tr>\n",
       "    <tr>\n",
       "      <td>5</td>\n",
       "      <td>Danny Dreyer</td>\n",
       "      <td>Sports</td>\n",
       "      <td>Paperback,– 5 May 2009</td>\n",
       "      <td>Healthy Living &amp; Wellness (Books)</td>\n",
       "      <td>900.00</td>\n",
       "      <td>8 customer reviews</td>\n",
       "      <td>4.5 out of 5 stars</td>\n",
       "      <td>The revised edition of the bestselling ChiRunn...</td>\n",
       "      <td>ChiRunning: A Revolutionary Approach to Effort...</td>\n",
       "    </tr>\n",
       "    <tr>\n",
       "      <td>6</td>\n",
       "      <td>Agatha Christie</td>\n",
       "      <td>Crime, Thriller &amp; Mystery</td>\n",
       "      <td>Paperback,– 5 Oct 2017</td>\n",
       "      <td>Crime, Thriller &amp; Mystery (Books)</td>\n",
       "      <td>224.00</td>\n",
       "      <td>72 customer reviews</td>\n",
       "      <td>4.4 out of 5 stars</td>\n",
       "      <td>Agatha Christie’s most exotic murder mystery\\n...</td>\n",
       "      <td>Death on the Nile (Poirot)</td>\n",
       "    </tr>\n",
       "    <tr>\n",
       "      <td>7</td>\n",
       "      <td>Sivananda Yoga Vedanta Centre</td>\n",
       "      <td>Sports</td>\n",
       "      <td>Hardcover,– Import, 1 Mar 2018</td>\n",
       "      <td>Sports Training &amp; Coaching (Books)</td>\n",
       "      <td>836.00</td>\n",
       "      <td>16 customer reviews</td>\n",
       "      <td>4.7 out of 5 stars</td>\n",
       "      <td>Achieve a healthy body, mental alertness, and ...</td>\n",
       "      <td>Yoga Your Home Practice Companion: A Complete ...</td>\n",
       "    </tr>\n",
       "    <tr>\n",
       "      <td>8</td>\n",
       "      <td>M S Ashokan</td>\n",
       "      <td>Biographies, Diaries &amp; True Accounts</td>\n",
       "      <td>Paperback,– 15 Dec 2015</td>\n",
       "      <td>Biographies &amp; Autobiographies (Books)</td>\n",
       "      <td>130.00</td>\n",
       "      <td>111 customer reviews</td>\n",
       "      <td>4.2 out of 5 stars</td>\n",
       "      <td>Karmayogi is the dramatic and inspiring story ...</td>\n",
       "      <td>Karmayogi: A Biography of E. Sreedharan</td>\n",
       "    </tr>\n",
       "    <tr>\n",
       "      <td>9</td>\n",
       "      <td>Maurice Druon</td>\n",
       "      <td>Action &amp; Adventure</td>\n",
       "      <td>Paperback,– 26 Mar 2013</td>\n",
       "      <td>Action &amp; Adventure (Books)</td>\n",
       "      <td>695.00</td>\n",
       "      <td>1 customer review</td>\n",
       "      <td>4.0 out of 5 stars</td>\n",
       "      <td>‘This is the original game of thrones’ George ...</td>\n",
       "      <td>The Iron King (The Accursed Kings, Book 1)</td>\n",
       "    </tr>\n",
       "  </tbody>\n",
       "</table>\n",
       "</div>"
      ],
      "text/plain": [
       "                          Author                          BookCategory  \\\n",
       "0                 Chris Kuzneski                    Action & Adventure   \n",
       "1                   Arun Khopkar  Biographies, Diaries & True Accounts   \n",
       "2                  Thomas Hobbes                                Humour   \n",
       "3                Agatha Christie             Crime, Thriller & Mystery   \n",
       "4                Editors of Life              Arts, Film & Photography   \n",
       "5                   Danny Dreyer                                Sports   \n",
       "6                Agatha Christie             Crime, Thriller & Mystery   \n",
       "7  Sivananda Yoga Vedanta Centre                                Sports   \n",
       "8                    M S Ashokan  Biographies, Diaries & True Accounts   \n",
       "9                  Maurice Druon                    Action & Adventure   \n",
       "\n",
       "                          Edition                                  Genre  \\\n",
       "0         Paperback,– 10 Mar 2016             Action & Adventure (Books)   \n",
       "1          Paperback,– 7 Nov 2012             Cinema & Broadcast (Books)   \n",
       "2         Paperback,– 25 Feb 1982                International Relations   \n",
       "3          Paperback,– 5 Oct 2017           Contemporary Fiction (Books)   \n",
       "4         Hardcover,– 10 Oct 2006                  Photography Textbooks   \n",
       "5          Paperback,– 5 May 2009      Healthy Living & Wellness (Books)   \n",
       "6          Paperback,– 5 Oct 2017      Crime, Thriller & Mystery (Books)   \n",
       "7  Hardcover,– Import, 1 Mar 2018     Sports Training & Coaching (Books)   \n",
       "8         Paperback,– 15 Dec 2015  Biographies & Autobiographies (Books)   \n",
       "9         Paperback,– 26 Mar 2013             Action & Adventure (Books)   \n",
       "\n",
       "    Price               Ratings             Reviews  \\\n",
       "0  220.00    8 customer reviews  4.0 out of 5 stars   \n",
       "1  202.93   14 customer reviews  3.9 out of 5 stars   \n",
       "2  299.00    6 customer reviews  4.8 out of 5 stars   \n",
       "3  180.00   13 customer reviews  4.1 out of 5 stars   \n",
       "4  965.62     1 customer review  5.0 out of 5 stars   \n",
       "5  900.00    8 customer reviews  4.5 out of 5 stars   \n",
       "6  224.00   72 customer reviews  4.4 out of 5 stars   \n",
       "7  836.00   16 customer reviews  4.7 out of 5 stars   \n",
       "8  130.00  111 customer reviews  4.2 out of 5 stars   \n",
       "9  695.00     1 customer review  4.0 out of 5 stars   \n",
       "\n",
       "                                            Synopsis  \\\n",
       "0  THE HUNTERS return in their third brilliant no...   \n",
       "1  A layered portrait of a troubled genius for wh...   \n",
       "2  \"During the time men live without a common Pow...   \n",
       "3  A handful of grain is found in the pocket of a...   \n",
       "4  For seven decades, \"Life\" has been thrilling t...   \n",
       "5  The revised edition of the bestselling ChiRunn...   \n",
       "6  Agatha Christie’s most exotic murder mystery\\n...   \n",
       "7  Achieve a healthy body, mental alertness, and ...   \n",
       "8  Karmayogi is the dramatic and inspiring story ...   \n",
       "9  ‘This is the original game of thrones’ George ...   \n",
       "\n",
       "                                               Title  \n",
       "0                The Prisoner's Gold (The Hunters 3)  \n",
       "1                 Guru Dutt: A Tragedy in Three Acts  \n",
       "2                       Leviathan (Penguin Classics)  \n",
       "3                 A Pocket Full of Rye (Miss Marple)  \n",
       "4         LIFE 70 Years of Extraordinary Photography  \n",
       "5  ChiRunning: A Revolutionary Approach to Effort...  \n",
       "6                         Death on the Nile (Poirot)  \n",
       "7  Yoga Your Home Practice Companion: A Complete ...  \n",
       "8            Karmayogi: A Biography of E. Sreedharan  \n",
       "9         The Iron King (The Accursed Kings, Book 1)  "
      ]
     },
     "execution_count": 81,
     "metadata": {},
     "output_type": "execute_result"
    }
   ],
   "source": [
    "data.head(10)"
   ]
  },
  {
   "cell_type": "code",
   "execution_count": 82,
   "metadata": {},
   "outputs": [
    {
     "name": "stdout",
     "output_type": "stream",
     "text": [
      "Author : 4372 label\n",
      "BookCategory : 11 label\n",
      "Edition : 3882 label\n",
      "Genre : 363 label\n",
      "Price : 1615 label\n",
      "Ratings : 368 label\n",
      "Reviews : 36 label\n",
      "Synopsis : 6771 label\n",
      "Title : 6787 label\n"
     ]
    }
   ],
   "source": [
    "for col in data.columns:\n",
    "    print(col, ':' , len(data[col].unique()),'label')"
   ]
  },
  {
   "cell_type": "code",
   "execution_count": 83,
   "metadata": {},
   "outputs": [],
   "source": [
    "data['Ratings'] = data['Ratings'].apply(lambda x : x.split(' ')[0])\n",
    "data['Reviews'] = data['Reviews'].apply(lambda x : x.split(' ')[0])"
   ]
  },
  {
   "cell_type": "code",
   "execution_count": 84,
   "metadata": {},
   "outputs": [
    {
     "name": "stdout",
     "output_type": "stream",
     "text": [
      "['1,416', '1,558', '1,142', '2,048', '1,097', '2,081', '2,084', '6,090', '1,227', '3,135', '1,392', '1,684', '1,403', '1,248', '1,563', '1,259', '2,255', '3,075', '1,256', '2,005', '1,247', '1,263', '4,787']\n"
     ]
    }
   ],
   "source": [
    "a = []\n",
    "for i in data.Ratings.unique():\n",
    "    if len(i) > 3:\n",
    "        a.append(i)\n",
    "        \n",
    "print(a)"
   ]
  },
  {
   "cell_type": "code",
   "execution_count": 85,
   "metadata": {},
   "outputs": [],
   "source": [
    "data['Ratings'] = data['Ratings'].replace({'1,416' : '1416',\n",
    "                                           '1,558' : '1558',\n",
    "                                           '1,142' : '1142',\n",
    "                                           '2,048' : '2048',\n",
    "                                           '1,097' : '1097',\n",
    "                                           '2,081' : '2081',\n",
    "                                           '2,084': '2084',\n",
    "                                           '6,090': '6090',\n",
    "                                           '1,227': '1227',\n",
    "                                           '3,135': '3135',\n",
    "                                           '1,392': '1392',\n",
    "                                           '1,684': '1684',\n",
    "                                           '1,403': '1403',\n",
    "                                           '1,248': '1248',\n",
    "                                           '1,563': '1563',\n",
    "                                           '1,259': '1259',\n",
    "                                           '2,255': '2255',\n",
    "                                           '3,075': '3075',\n",
    "                                           '1,256': '1256',\n",
    "                                           '2,005': '2005',\n",
    "                                           '1,247': '1247',\n",
    "                                           '1,263': '1263',\n",
    "                                           '4,787': '4787'})"
   ]
  },
  {
   "cell_type": "code",
   "execution_count": 86,
   "metadata": {},
   "outputs": [],
   "source": [
    "data['Ratings'] = data['Ratings'].astype('float64')\n",
    "data['Reviews'] = data['Reviews'].astype('float64')"
   ]
  },
  {
   "cell_type": "code",
   "execution_count": 87,
   "metadata": {},
   "outputs": [],
   "source": [
    "data['Genre'] = data['Genre'].apply(lambda x : x.split('(')[0])\n",
    "data['Edition_Type'] = data['Edition'].apply(lambda x : x.split(',')[0])\n",
    "data['Edition_Date'] = data['Edition'].apply(lambda x : x.split(',')[1])"
   ]
  },
  {
   "cell_type": "code",
   "execution_count": 88,
   "metadata": {},
   "outputs": [],
   "source": [
    "New_Date = []\n",
    "for i in data.Edition_Date:\n",
    "    New_Date.append(i[1:])\n",
    "    \n",
    "data['Edition_Date'][:len(data.Edition_Date)] = New_Date"
   ]
  },
  {
   "cell_type": "code",
   "execution_count": 89,
   "metadata": {},
   "outputs": [],
   "source": [
    "data.drop(['Synopsis','Edition','Edition_Date'], axis = 1, inplace = True)"
   ]
  },
  {
   "cell_type": "code",
   "execution_count": 90,
   "metadata": {},
   "outputs": [
    {
     "data": {
      "text/html": [
       "<div>\n",
       "<style scoped>\n",
       "    .dataframe tbody tr th:only-of-type {\n",
       "        vertical-align: middle;\n",
       "    }\n",
       "\n",
       "    .dataframe tbody tr th {\n",
       "        vertical-align: top;\n",
       "    }\n",
       "\n",
       "    .dataframe thead th {\n",
       "        text-align: right;\n",
       "    }\n",
       "</style>\n",
       "<table border=\"1\" class=\"dataframe\">\n",
       "  <thead>\n",
       "    <tr style=\"text-align: right;\">\n",
       "      <th></th>\n",
       "      <th>Author</th>\n",
       "      <th>BookCategory</th>\n",
       "      <th>Genre</th>\n",
       "      <th>Price</th>\n",
       "      <th>Ratings</th>\n",
       "      <th>Reviews</th>\n",
       "      <th>Title</th>\n",
       "      <th>Edition_Type</th>\n",
       "    </tr>\n",
       "  </thead>\n",
       "  <tbody>\n",
       "    <tr>\n",
       "      <td>0</td>\n",
       "      <td>Chris Kuzneski</td>\n",
       "      <td>Action &amp; Adventure</td>\n",
       "      <td>Action &amp; Adventure</td>\n",
       "      <td>220.00</td>\n",
       "      <td>8.0</td>\n",
       "      <td>4.0</td>\n",
       "      <td>The Prisoner's Gold (The Hunters 3)</td>\n",
       "      <td>Paperback</td>\n",
       "    </tr>\n",
       "    <tr>\n",
       "      <td>1</td>\n",
       "      <td>Arun Khopkar</td>\n",
       "      <td>Biographies, Diaries &amp; True Accounts</td>\n",
       "      <td>Cinema &amp; Broadcast</td>\n",
       "      <td>202.93</td>\n",
       "      <td>14.0</td>\n",
       "      <td>3.9</td>\n",
       "      <td>Guru Dutt: A Tragedy in Three Acts</td>\n",
       "      <td>Paperback</td>\n",
       "    </tr>\n",
       "    <tr>\n",
       "      <td>2</td>\n",
       "      <td>Thomas Hobbes</td>\n",
       "      <td>Humour</td>\n",
       "      <td>International Relations</td>\n",
       "      <td>299.00</td>\n",
       "      <td>6.0</td>\n",
       "      <td>4.8</td>\n",
       "      <td>Leviathan (Penguin Classics)</td>\n",
       "      <td>Paperback</td>\n",
       "    </tr>\n",
       "    <tr>\n",
       "      <td>3</td>\n",
       "      <td>Agatha Christie</td>\n",
       "      <td>Crime, Thriller &amp; Mystery</td>\n",
       "      <td>Contemporary Fiction</td>\n",
       "      <td>180.00</td>\n",
       "      <td>13.0</td>\n",
       "      <td>4.1</td>\n",
       "      <td>A Pocket Full of Rye (Miss Marple)</td>\n",
       "      <td>Paperback</td>\n",
       "    </tr>\n",
       "    <tr>\n",
       "      <td>4</td>\n",
       "      <td>Editors of Life</td>\n",
       "      <td>Arts, Film &amp; Photography</td>\n",
       "      <td>Photography Textbooks</td>\n",
       "      <td>965.62</td>\n",
       "      <td>1.0</td>\n",
       "      <td>5.0</td>\n",
       "      <td>LIFE 70 Years of Extraordinary Photography</td>\n",
       "      <td>Hardcover</td>\n",
       "    </tr>\n",
       "    <tr>\n",
       "      <td>5</td>\n",
       "      <td>Danny Dreyer</td>\n",
       "      <td>Sports</td>\n",
       "      <td>Healthy Living &amp; Wellness</td>\n",
       "      <td>900.00</td>\n",
       "      <td>8.0</td>\n",
       "      <td>4.5</td>\n",
       "      <td>ChiRunning: A Revolutionary Approach to Effort...</td>\n",
       "      <td>Paperback</td>\n",
       "    </tr>\n",
       "    <tr>\n",
       "      <td>6</td>\n",
       "      <td>Agatha Christie</td>\n",
       "      <td>Crime, Thriller &amp; Mystery</td>\n",
       "      <td>Crime, Thriller &amp; Mystery</td>\n",
       "      <td>224.00</td>\n",
       "      <td>72.0</td>\n",
       "      <td>4.4</td>\n",
       "      <td>Death on the Nile (Poirot)</td>\n",
       "      <td>Paperback</td>\n",
       "    </tr>\n",
       "    <tr>\n",
       "      <td>7</td>\n",
       "      <td>Sivananda Yoga Vedanta Centre</td>\n",
       "      <td>Sports</td>\n",
       "      <td>Sports Training &amp; Coaching</td>\n",
       "      <td>836.00</td>\n",
       "      <td>16.0</td>\n",
       "      <td>4.7</td>\n",
       "      <td>Yoga Your Home Practice Companion: A Complete ...</td>\n",
       "      <td>Hardcover</td>\n",
       "    </tr>\n",
       "    <tr>\n",
       "      <td>8</td>\n",
       "      <td>M S Ashokan</td>\n",
       "      <td>Biographies, Diaries &amp; True Accounts</td>\n",
       "      <td>Biographies &amp; Autobiographies</td>\n",
       "      <td>130.00</td>\n",
       "      <td>111.0</td>\n",
       "      <td>4.2</td>\n",
       "      <td>Karmayogi: A Biography of E. Sreedharan</td>\n",
       "      <td>Paperback</td>\n",
       "    </tr>\n",
       "    <tr>\n",
       "      <td>9</td>\n",
       "      <td>Maurice Druon</td>\n",
       "      <td>Action &amp; Adventure</td>\n",
       "      <td>Action &amp; Adventure</td>\n",
       "      <td>695.00</td>\n",
       "      <td>1.0</td>\n",
       "      <td>4.0</td>\n",
       "      <td>The Iron King (The Accursed Kings, Book 1)</td>\n",
       "      <td>Paperback</td>\n",
       "    </tr>\n",
       "  </tbody>\n",
       "</table>\n",
       "</div>"
      ],
      "text/plain": [
       "                          Author                          BookCategory  \\\n",
       "0                 Chris Kuzneski                    Action & Adventure   \n",
       "1                   Arun Khopkar  Biographies, Diaries & True Accounts   \n",
       "2                  Thomas Hobbes                                Humour   \n",
       "3                Agatha Christie             Crime, Thriller & Mystery   \n",
       "4                Editors of Life              Arts, Film & Photography   \n",
       "5                   Danny Dreyer                                Sports   \n",
       "6                Agatha Christie             Crime, Thriller & Mystery   \n",
       "7  Sivananda Yoga Vedanta Centre                                Sports   \n",
       "8                    M S Ashokan  Biographies, Diaries & True Accounts   \n",
       "9                  Maurice Druon                    Action & Adventure   \n",
       "\n",
       "                            Genre   Price  Ratings  Reviews  \\\n",
       "0             Action & Adventure   220.00      8.0      4.0   \n",
       "1             Cinema & Broadcast   202.93     14.0      3.9   \n",
       "2         International Relations  299.00      6.0      4.8   \n",
       "3           Contemporary Fiction   180.00     13.0      4.1   \n",
       "4           Photography Textbooks  965.62      1.0      5.0   \n",
       "5      Healthy Living & Wellness   900.00      8.0      4.5   \n",
       "6      Crime, Thriller & Mystery   224.00     72.0      4.4   \n",
       "7     Sports Training & Coaching   836.00     16.0      4.7   \n",
       "8  Biographies & Autobiographies   130.00    111.0      4.2   \n",
       "9             Action & Adventure   695.00      1.0      4.0   \n",
       "\n",
       "                                               Title Edition_Type  \n",
       "0                The Prisoner's Gold (The Hunters 3)    Paperback  \n",
       "1                 Guru Dutt: A Tragedy in Three Acts    Paperback  \n",
       "2                       Leviathan (Penguin Classics)    Paperback  \n",
       "3                 A Pocket Full of Rye (Miss Marple)    Paperback  \n",
       "4         LIFE 70 Years of Extraordinary Photography    Hardcover  \n",
       "5  ChiRunning: A Revolutionary Approach to Effort...    Paperback  \n",
       "6                         Death on the Nile (Poirot)    Paperback  \n",
       "7  Yoga Your Home Practice Companion: A Complete ...    Hardcover  \n",
       "8            Karmayogi: A Biography of E. Sreedharan    Paperback  \n",
       "9         The Iron King (The Accursed Kings, Book 1)    Paperback  "
      ]
     },
     "execution_count": 90,
     "metadata": {},
     "output_type": "execute_result"
    }
   ],
   "source": [
    "data.head(10)"
   ]
  },
  {
   "cell_type": "code",
   "execution_count": 91,
   "metadata": {},
   "outputs": [
    {
     "name": "stdout",
     "output_type": "stream",
     "text": [
      "Author : 4372 label\n",
      "BookCategory : 11 label\n",
      "Genre : 363 label\n",
      "Price : 1615 label\n",
      "Ratings : 368 label\n",
      "Reviews : 36 label\n",
      "Title : 6787 label\n",
      "Edition_Type : 20 label\n"
     ]
    }
   ],
   "source": [
    "for col in data.columns:\n",
    "    print(col, ':' , len(data[col].unique()),'label')"
   ]
  },
  {
   "cell_type": "code",
   "execution_count": 92,
   "metadata": {},
   "outputs": [
    {
     "data": {
      "text/plain": [
       "Author             0\n",
       "BookCategory       0\n",
       "Genre              0\n",
       "Price           1560\n",
       "Ratings            0\n",
       "Reviews            0\n",
       "Title              0\n",
       "Edition_Type       0\n",
       "dtype: int64"
      ]
     },
     "execution_count": 92,
     "metadata": {},
     "output_type": "execute_result"
    }
   ],
   "source": [
    "data.isnull().sum()"
   ]
  },
  {
   "cell_type": "code",
   "execution_count": 93,
   "metadata": {},
   "outputs": [],
   "source": [
    "from sklearn.preprocessing import LabelEncoder\n",
    "leb = LabelEncoder()"
   ]
  },
  {
   "cell_type": "code",
   "execution_count": 94,
   "metadata": {},
   "outputs": [
    {
     "data": {
      "text/html": [
       "<div>\n",
       "<style scoped>\n",
       "    .dataframe tbody tr th:only-of-type {\n",
       "        vertical-align: middle;\n",
       "    }\n",
       "\n",
       "    .dataframe tbody tr th {\n",
       "        vertical-align: top;\n",
       "    }\n",
       "\n",
       "    .dataframe thead th {\n",
       "        text-align: right;\n",
       "    }\n",
       "</style>\n",
       "<table border=\"1\" class=\"dataframe\">\n",
       "  <thead>\n",
       "    <tr style=\"text-align: right;\">\n",
       "      <th></th>\n",
       "      <th>Author</th>\n",
       "      <th>BookCategory</th>\n",
       "      <th>Genre</th>\n",
       "      <th>Price</th>\n",
       "      <th>Ratings</th>\n",
       "      <th>Reviews</th>\n",
       "      <th>Title</th>\n",
       "      <th>Edition_Type</th>\n",
       "    </tr>\n",
       "  </thead>\n",
       "  <tbody>\n",
       "    <tr>\n",
       "      <td>0</td>\n",
       "      <td>748</td>\n",
       "      <td>0</td>\n",
       "      <td>1</td>\n",
       "      <td>220.00</td>\n",
       "      <td>8.0</td>\n",
       "      <td>4.0</td>\n",
       "      <td>5803</td>\n",
       "      <td>13</td>\n",
       "    </tr>\n",
       "    <tr>\n",
       "      <td>1</td>\n",
       "      <td>370</td>\n",
       "      <td>2</td>\n",
       "      <td>78</td>\n",
       "      <td>202.93</td>\n",
       "      <td>14.0</td>\n",
       "      <td>3.9</td>\n",
       "      <td>2120</td>\n",
       "      <td>13</td>\n",
       "    </tr>\n",
       "    <tr>\n",
       "      <td>2</td>\n",
       "      <td>4045</td>\n",
       "      <td>6</td>\n",
       "      <td>202</td>\n",
       "      <td>299.00</td>\n",
       "      <td>6.0</td>\n",
       "      <td>4.8</td>\n",
       "      <td>2982</td>\n",
       "      <td>13</td>\n",
       "    </tr>\n",
       "    <tr>\n",
       "      <td>3</td>\n",
       "      <td>79</td>\n",
       "      <td>5</td>\n",
       "      <td>96</td>\n",
       "      <td>180.00</td>\n",
       "      <td>13.0</td>\n",
       "      <td>4.1</td>\n",
       "      <td>189</td>\n",
       "      <td>13</td>\n",
       "    </tr>\n",
       "    <tr>\n",
       "      <td>4</td>\n",
       "      <td>1138</td>\n",
       "      <td>1</td>\n",
       "      <td>264</td>\n",
       "      <td>965.62</td>\n",
       "      <td>1.0</td>\n",
       "      <td>5.0</td>\n",
       "      <td>2853</td>\n",
       "      <td>8</td>\n",
       "    </tr>\n",
       "    <tr>\n",
       "      <td>5</td>\n",
       "      <td>888</td>\n",
       "      <td>10</td>\n",
       "      <td>170</td>\n",
       "      <td>900.00</td>\n",
       "      <td>8.0</td>\n",
       "      <td>4.5</td>\n",
       "      <td>1042</td>\n",
       "      <td>13</td>\n",
       "    </tr>\n",
       "    <tr>\n",
       "      <td>6</td>\n",
       "      <td>79</td>\n",
       "      <td>5</td>\n",
       "      <td>100</td>\n",
       "      <td>224.00</td>\n",
       "      <td>72.0</td>\n",
       "      <td>4.4</td>\n",
       "      <td>1346</td>\n",
       "      <td>13</td>\n",
       "    </tr>\n",
       "    <tr>\n",
       "      <td>7</td>\n",
       "      <td>3777</td>\n",
       "      <td>10</td>\n",
       "      <td>325</td>\n",
       "      <td>836.00</td>\n",
       "      <td>16.0</td>\n",
       "      <td>4.7</td>\n",
       "      <td>6726</td>\n",
       "      <td>8</td>\n",
       "    </tr>\n",
       "    <tr>\n",
       "      <td>8</td>\n",
       "      <td>2359</td>\n",
       "      <td>2</td>\n",
       "      <td>35</td>\n",
       "      <td>130.00</td>\n",
       "      <td>111.0</td>\n",
       "      <td>4.2</td>\n",
       "      <td>2761</td>\n",
       "      <td>13</td>\n",
       "    </tr>\n",
       "    <tr>\n",
       "      <td>9</td>\n",
       "      <td>2554</td>\n",
       "      <td>0</td>\n",
       "      <td>1</td>\n",
       "      <td>695.00</td>\n",
       "      <td>1.0</td>\n",
       "      <td>4.0</td>\n",
       "      <td>5458</td>\n",
       "      <td>13</td>\n",
       "    </tr>\n",
       "  </tbody>\n",
       "</table>\n",
       "</div>"
      ],
      "text/plain": [
       "   Author  BookCategory  Genre   Price  Ratings  Reviews  Title  Edition_Type\n",
       "0     748             0      1  220.00      8.0      4.0   5803            13\n",
       "1     370             2     78  202.93     14.0      3.9   2120            13\n",
       "2    4045             6    202  299.00      6.0      4.8   2982            13\n",
       "3      79             5     96  180.00     13.0      4.1    189            13\n",
       "4    1138             1    264  965.62      1.0      5.0   2853             8\n",
       "5     888            10    170  900.00      8.0      4.5   1042            13\n",
       "6      79             5    100  224.00     72.0      4.4   1346            13\n",
       "7    3777            10    325  836.00     16.0      4.7   6726             8\n",
       "8    2359             2     35  130.00    111.0      4.2   2761            13\n",
       "9    2554             0      1  695.00      1.0      4.0   5458            13"
      ]
     },
     "execution_count": 94,
     "metadata": {},
     "output_type": "execute_result"
    }
   ],
   "source": [
    "for col in data.select_dtypes(include='object'):\n",
    "    data[col] = leb.fit_transform(data[col])\n",
    "    \n",
    "data.head(10)"
   ]
  },
  {
   "cell_type": "code",
   "execution_count": 130,
   "metadata": {},
   "outputs": [
    {
     "data": {
      "text/plain": [
       "array([[<matplotlib.axes._subplots.AxesSubplot object at 0x000001493A6999C8>,\n",
       "        <matplotlib.axes._subplots.AxesSubplot object at 0x000001493D1A4388>,\n",
       "        <matplotlib.axes._subplots.AxesSubplot object at 0x000001493D1CF888>],\n",
       "       [<matplotlib.axes._subplots.AxesSubplot object at 0x000001493D3882C8>,\n",
       "        <matplotlib.axes._subplots.AxesSubplot object at 0x000001493D3BCC88>,\n",
       "        <matplotlib.axes._subplots.AxesSubplot object at 0x000001493D3F7688>],\n",
       "       [<matplotlib.axes._subplots.AxesSubplot object at 0x000001493D42F3C8>,\n",
       "        <matplotlib.axes._subplots.AxesSubplot object at 0x000001493D467508>,\n",
       "        <matplotlib.axes._subplots.AxesSubplot object at 0x000001493D49E648>],\n",
       "       [<matplotlib.axes._subplots.AxesSubplot object at 0x000001493D4D6808>,\n",
       "        <matplotlib.axes._subplots.AxesSubplot object at 0x000001493D50D9C8>,\n",
       "        <matplotlib.axes._subplots.AxesSubplot object at 0x000001493D544B08>]],\n",
       "      dtype=object)"
      ]
     },
     "execution_count": 130,
     "metadata": {},
     "output_type": "execute_result"
    },
    {
     "data": {
      "image/png": "[encoded data removed]",
      "text/plain": [
       "<Figure size 1440x1440 with 12 Axes>"
      ]
     },
     "metadata": {
      "needs_background": "light"
     },
     "output_type": "display_data"
    }
   ],
   "source": [
    "data.plot(kind = 'density', subplots = True, layout=(4,3), sharex=False, figsize=(20, 20))"
   ]
  },
  {
   "cell_type": "code",
   "execution_count": 24,
   "metadata": {},
   "outputs": [
    {
     "data": {
      "text/html": [
       "<div>\n",
       "<style scoped>\n",
       "    .dataframe tbody tr th:only-of-type {\n",
       "        vertical-align: middle;\n",
       "    }\n",
       "\n",
       "    .dataframe tbody tr th {\n",
       "        vertical-align: top;\n",
       "    }\n",
       "\n",
       "    .dataframe thead th {\n",
       "        text-align: right;\n",
       "    }\n",
       "</style>\n",
       "<table border=\"1\" class=\"dataframe\">\n",
       "  <thead>\n",
       "    <tr style=\"text-align: right;\">\n",
       "      <th></th>\n",
       "      <th>Author</th>\n",
       "      <th>BookCategory</th>\n",
       "      <th>Genre</th>\n",
       "      <th>Price</th>\n",
       "      <th>Ratings</th>\n",
       "      <th>Reviews</th>\n",
       "      <th>Title</th>\n",
       "      <th>Edition_Type</th>\n",
       "    </tr>\n",
       "  </thead>\n",
       "  <tbody>\n",
       "    <tr>\n",
       "      <td>count</td>\n",
       "      <td>7797.000000</td>\n",
       "      <td>7797.000000</td>\n",
       "      <td>7797.000000</td>\n",
       "      <td>6237.000000</td>\n",
       "      <td>7797.000000</td>\n",
       "      <td>7797.000000</td>\n",
       "      <td>7797.000000</td>\n",
       "      <td>7797.000000</td>\n",
       "    </tr>\n",
       "    <tr>\n",
       "      <td>mean</td>\n",
       "      <td>2148.142875</td>\n",
       "      <td>4.635244</td>\n",
       "      <td>142.650635</td>\n",
       "      <td>560.707516</td>\n",
       "      <td>35.520841</td>\n",
       "      <td>4.295845</td>\n",
       "      <td>3387.384763</td>\n",
       "      <td>12.288060</td>\n",
       "    </tr>\n",
       "    <tr>\n",
       "      <td>std</td>\n",
       "      <td>1257.563270</td>\n",
       "      <td>3.185005</td>\n",
       "      <td>109.197530</td>\n",
       "      <td>690.110657</td>\n",
       "      <td>153.020897</td>\n",
       "      <td>0.663513</td>\n",
       "      <td>1970.556159</td>\n",
       "      <td>1.800498</td>\n",
       "    </tr>\n",
       "    <tr>\n",
       "      <td>min</td>\n",
       "      <td>0.000000</td>\n",
       "      <td>0.000000</td>\n",
       "      <td>0.000000</td>\n",
       "      <td>25.000000</td>\n",
       "      <td>1.000000</td>\n",
       "      <td>1.000000</td>\n",
       "      <td>0.000000</td>\n",
       "      <td>0.000000</td>\n",
       "    </tr>\n",
       "    <tr>\n",
       "      <td>25%</td>\n",
       "      <td>1079.000000</td>\n",
       "      <td>2.000000</td>\n",
       "      <td>35.000000</td>\n",
       "      <td>249.180000</td>\n",
       "      <td>2.000000</td>\n",
       "      <td>4.000000</td>\n",
       "      <td>1667.000000</td>\n",
       "      <td>13.000000</td>\n",
       "    </tr>\n",
       "    <tr>\n",
       "      <td>50%</td>\n",
       "      <td>2136.000000</td>\n",
       "      <td>5.000000</td>\n",
       "      <td>109.000000</td>\n",
       "      <td>373.000000</td>\n",
       "      <td>6.000000</td>\n",
       "      <td>4.400000</td>\n",
       "      <td>3398.000000</td>\n",
       "      <td>13.000000</td>\n",
       "    </tr>\n",
       "    <tr>\n",
       "      <td>75%</td>\n",
       "      <td>3226.000000</td>\n",
       "      <td>7.000000</td>\n",
       "      <td>227.000000</td>\n",
       "      <td>599.000000</td>\n",
       "      <td>21.000000</td>\n",
       "      <td>4.800000</td>\n",
       "      <td>5097.000000</td>\n",
       "      <td>13.000000</td>\n",
       "    </tr>\n",
       "    <tr>\n",
       "      <td>max</td>\n",
       "      <td>4371.000000</td>\n",
       "      <td>10.000000</td>\n",
       "      <td>362.000000</td>\n",
       "      <td>14100.000000</td>\n",
       "      <td>6090.000000</td>\n",
       "      <td>5.000000</td>\n",
       "      <td>6786.000000</td>\n",
       "      <td>19.000000</td>\n",
       "    </tr>\n",
       "  </tbody>\n",
       "</table>\n",
       "</div>"
      ],
      "text/plain": [
       "            Author  BookCategory        Genre         Price      Ratings  \\\n",
       "count  7797.000000   7797.000000  7797.000000   6237.000000  7797.000000   \n",
       "mean   2148.142875      4.635244   142.650635    560.707516    35.520841   \n",
       "std    1257.563270      3.185005   109.197530    690.110657   153.020897   \n",
       "min       0.000000      0.000000     0.000000     25.000000     1.000000   \n",
       "25%    1079.000000      2.000000    35.000000    249.180000     2.000000   \n",
       "50%    2136.000000      5.000000   109.000000    373.000000     6.000000   \n",
       "75%    3226.000000      7.000000   227.000000    599.000000    21.000000   \n",
       "max    4371.000000     10.000000   362.000000  14100.000000  6090.000000   \n",
       "\n",
       "           Reviews        Title  Edition_Type  \n",
       "count  7797.000000  7797.000000   7797.000000  \n",
       "mean      4.295845  3387.384763     12.288060  \n",
       "std       0.663513  1970.556159      1.800498  \n",
       "min       1.000000     0.000000      0.000000  \n",
       "25%       4.000000  1667.000000     13.000000  \n",
       "50%       4.400000  3398.000000     13.000000  \n",
       "75%       4.800000  5097.000000     13.000000  \n",
       "max       5.000000  6786.000000     19.000000  "
      ]
     },
     "execution_count": 24,
     "metadata": {},
     "output_type": "execute_result"
    }
   ],
   "source": [
    "data.describe()"
   ]
  },
  {
   "cell_type": "code",
   "execution_count": 95,
   "metadata": {},
   "outputs": [],
   "source": [
    "from sklearn.model_selection import train_test_split"
   ]
  },
  {
   "cell_type": "code",
   "execution_count": 96,
   "metadata": {},
   "outputs": [
    {
     "data": {
      "text/plain": [
       "((6237, 8), (1560, 8))"
      ]
     },
     "execution_count": 96,
     "metadata": {},
     "output_type": "execute_result"
    }
   ],
   "source": [
    "train = data[:len(train)]\n",
    "test = data[len(train):]\n",
    "\n",
    "train.shape, test.shape"
   ]
  },
  {
   "cell_type": "code",
   "execution_count": 97,
   "metadata": {},
   "outputs": [],
   "source": [
    "X = train.drop('Price', axis = 1)\n",
    "y = train['Price']"
   ]
  },
  {
   "cell_type": "code",
   "execution_count": 98,
   "metadata": {},
   "outputs": [],
   "source": [
    "X_train, X_test, y_train, y_test = train_test_split(X,y,test_size = .25 )"
   ]
  },
  {
   "cell_type": "code",
   "execution_count": 99,
   "metadata": {},
   "outputs": [
    {
     "data": {
      "text/plain": [
       "((4677, 7), (1560, 7))"
      ]
     },
     "execution_count": 99,
     "metadata": {},
     "output_type": "execute_result"
    }
   ],
   "source": [
    "X_train.shape, X_test.shape"
   ]
  },
  {
   "cell_type": "code",
   "execution_count": 100,
   "metadata": {},
   "outputs": [
    {
     "data": {
      "text/plain": [
       "((4677,), (1560,))"
      ]
     },
     "execution_count": 100,
     "metadata": {},
     "output_type": "execute_result"
    }
   ],
   "source": [
    "y_train.shape, y_test.shape"
   ]
  },
  {
   "cell_type": "markdown",
   "metadata": {},
   "source": [
    "## Build Model"
   ]
  },
  {
   "cell_type": "code",
   "execution_count": 101,
   "metadata": {},
   "outputs": [],
   "source": [
    "from sklearn import metrics, ensemble, linear_model, tree"
   ]
  },
  {
   "cell_type": "markdown",
   "metadata": {},
   "source": [
    "# Linear Regression"
   ]
  },
  {
   "cell_type": "code",
   "execution_count": 102,
   "metadata": {},
   "outputs": [
    {
     "data": {
      "text/plain": [
       "LinearRegression(copy_X=True, fit_intercept=True, n_jobs=None, normalize=False)"
      ]
     },
     "execution_count": 102,
     "metadata": {},
     "output_type": "execute_result"
    }
   ],
   "source": [
    "model_LR = linear_model.LinearRegression()\n",
    "model_LR.fit(X_train,y_train)"
   ]
  },
  {
   "cell_type": "code",
   "execution_count": 103,
   "metadata": {},
   "outputs": [
    {
     "data": {
      "text/plain": [
       "3.1170488680537165"
      ]
     },
     "execution_count": 103,
     "metadata": {},
     "output_type": "execute_result"
    }
   ],
   "source": [
    "y_pred = metrics.mean_squared_error(y_test,model_LR.predict(X_test))\n",
    "np.sqrt(np.square(np.log10(y_pred +1) - np.log10(y_test +1)).mean())"
   ]
  },
  {
   "cell_type": "markdown",
   "metadata": {},
   "source": [
    "# Decision Tree"
   ]
  },
  {
   "cell_type": "code",
   "execution_count": 104,
   "metadata": {},
   "outputs": [
    {
     "data": {
      "text/plain": [
       "DecisionTreeRegressor(criterion='mse', max_depth=None, max_features=None,\n",
       "                      max_leaf_nodes=None, min_impurity_decrease=0.0,\n",
       "                      min_impurity_split=None, min_samples_leaf=1,\n",
       "                      min_samples_split=2, min_weight_fraction_leaf=0.0,\n",
       "                      presort=False, random_state=None, splitter='best')"
      ]
     },
     "execution_count": 104,
     "metadata": {},
     "output_type": "execute_result"
    }
   ],
   "source": [
    "model_DT = tree.DecisionTreeRegressor()\n",
    "model_DT.fit(X_train,y_train)"
   ]
  },
  {
   "cell_type": "code",
   "execution_count": 105,
   "metadata": {},
   "outputs": [],
   "source": [
    "y_pred = metrics.mean_squared_error(y_test,model_DT.predict(X_test))"
   ]
  },
  {
   "cell_type": "code",
   "execution_count": 106,
   "metadata": {},
   "outputs": [
    {
     "data": {
      "text/plain": [
       "array([0.19061721, 0.07491678, 0.21449913, 0.10054247, 0.11188921,\n",
       "       0.24300272, 0.06453248])"
      ]
     },
     "execution_count": 106,
     "metadata": {},
     "output_type": "execute_result"
    }
   ],
   "source": [
    "model_DT.feature_importances_"
   ]
  },
  {
   "cell_type": "code",
   "execution_count": 107,
   "metadata": {},
   "outputs": [
    {
     "data": {
      "text/plain": [
       "3.335753478600636"
      ]
     },
     "execution_count": 107,
     "metadata": {},
     "output_type": "execute_result"
    }
   ],
   "source": [
    "y_pred = metrics.mean_squared_error(y_test,model_DT.predict(X_test))\n",
    "np.sqrt(np.square(np.log10(y_pred +1) - np.log10(y_test +1)).mean())"
   ]
  },
  {
   "cell_type": "markdown",
   "metadata": {},
   "source": [
    "# Random Forest"
   ]
  },
  {
   "cell_type": "code",
   "execution_count": 108,
   "metadata": {},
   "outputs": [
    {
     "data": {
      "text/plain": [
       "RandomForestRegressor(bootstrap=True, criterion='mse', max_depth=None,\n",
       "                      max_features='auto', max_leaf_nodes=None,\n",
       "                      min_impurity_decrease=0.0, min_impurity_split=None,\n",
       "                      min_samples_leaf=1, min_samples_split=2,\n",
       "                      min_weight_fraction_leaf=0.0, n_estimators=10,\n",
       "                      n_jobs=None, oob_score=False, random_state=None,\n",
       "                      verbose=0, warm_start=False)"
      ]
     },
     "execution_count": 108,
     "metadata": {},
     "output_type": "execute_result"
    }
   ],
   "source": [
    "model_RFR = ensemble.RandomForestRegressor()\n",
    "model_RFR.fit(X_train,y_train)"
   ]
  },
  {
   "cell_type": "code",
   "execution_count": 109,
   "metadata": {},
   "outputs": [],
   "source": [
    "y_pred = metrics.mean_squared_error(y_test,model_RFR.predict(X_test))"
   ]
  },
  {
   "cell_type": "code",
   "execution_count": 110,
   "metadata": {},
   "outputs": [
    {
     "data": {
      "text/plain": [
       "3.13194675583204"
      ]
     },
     "execution_count": 110,
     "metadata": {},
     "output_type": "execute_result"
    }
   ],
   "source": [
    "y_pred = metrics.mean_squared_error(y_test,model_RFR.predict(X_test))\n",
    "np.sqrt(np.square(np.log10(y_pred +1) - np.log10(y_test +1)).mean())"
   ]
  },
  {
   "cell_type": "code",
   "execution_count": 111,
   "metadata": {},
   "outputs": [],
   "source": [
    "from sklearn.ensemble import GradientBoostingRegressor\n",
    "from sklearn.metrics import mean_absolute_error"
   ]
  },
  {
   "cell_type": "markdown",
   "metadata": {},
   "source": [
    "# GradientBoostingRegressor"
   ]
  },
  {
   "cell_type": "code",
   "execution_count": 131,
   "metadata": {},
   "outputs": [
    {
     "data": {
      "text/plain": [
       "GradientBoostingRegressor(alpha=0.9, criterion='friedman_mse', init=None,\n",
       "                          learning_rate=1.0, loss='ls', max_depth=2,\n",
       "                          max_features=None, max_leaf_nodes=None,\n",
       "                          min_impurity_decrease=0.0, min_impurity_split=None,\n",
       "                          min_samples_leaf=1, min_samples_split=2,\n",
       "                          min_weight_fraction_leaf=0.0, n_estimators=3,\n",
       "                          n_iter_no_change=None, presort='auto',\n",
       "                          random_state=None, subsample=1.0, tol=0.0001,\n",
       "                          validation_fraction=0.1, verbose=0, warm_start=False)"
      ]
     },
     "execution_count": 131,
     "metadata": {},
     "output_type": "execute_result"
    }
   ],
   "source": [
    "regressor = ensemble.GradientBoostingRegressor(\n",
    "    max_depth=2,\n",
    "    n_estimators=3,\n",
    "    learning_rate=1.0\n",
    ")\n",
    "regressor.fit(X_train, y_train)"
   ]
  },
  {
   "cell_type": "code",
   "execution_count": 132,
   "metadata": {},
   "outputs": [
    {
     "data": {
      "text/plain": [
       "3.090315703292046"
      ]
     },
     "execution_count": 132,
     "metadata": {},
     "output_type": "execute_result"
    }
   ],
   "source": [
    "y_pred = metrics.mean_squared_error(y_test,regressor.predict(X_test))\n",
    "np.sqrt(np.square(np.log10(y_pred +1) - np.log10(y_test +1)).mean())"
   ]
  },
  {
   "cell_type": "markdown",
   "metadata": {},
   "source": [
    "## Submission"
   ]
  },
  {
   "cell_type": "code",
   "execution_count": 137,
   "metadata": {},
   "outputs": [
    {
     "data": {
      "text/html": [
       "<div>\n",
       "<style scoped>\n",
       "    .dataframe tbody tr th:only-of-type {\n",
       "        vertical-align: middle;\n",
       "    }\n",
       "\n",
       "    .dataframe tbody tr th {\n",
       "        vertical-align: top;\n",
       "    }\n",
       "\n",
       "    .dataframe thead th {\n",
       "        text-align: right;\n",
       "    }\n",
       "</style>\n",
       "<table border=\"1\" class=\"dataframe\">\n",
       "  <thead>\n",
       "    <tr style=\"text-align: right;\">\n",
       "      <th></th>\n",
       "      <th>Author</th>\n",
       "      <th>BookCategory</th>\n",
       "      <th>Genre</th>\n",
       "      <th>Price</th>\n",
       "      <th>Ratings</th>\n",
       "      <th>Reviews</th>\n",
       "      <th>Title</th>\n",
       "      <th>Edition_Type</th>\n",
       "    </tr>\n",
       "  </thead>\n",
       "  <tbody>\n",
       "    <tr>\n",
       "      <td>0</td>\n",
       "      <td>3769</td>\n",
       "      <td>5</td>\n",
       "      <td>304</td>\n",
       "      <td>NaN</td>\n",
       "      <td>960.0</td>\n",
       "      <td>4.4</td>\n",
       "      <td>5087</td>\n",
       "      <td>12</td>\n",
       "    </tr>\n",
       "    <tr>\n",
       "      <td>1</td>\n",
       "      <td>1303</td>\n",
       "      <td>4</td>\n",
       "      <td>255</td>\n",
       "      <td>NaN</td>\n",
       "      <td>1.0</td>\n",
       "      <td>5.0</td>\n",
       "      <td>2907</td>\n",
       "      <td>13</td>\n",
       "    </tr>\n",
       "    <tr>\n",
       "      <td>2</td>\n",
       "      <td>887</td>\n",
       "      <td>9</td>\n",
       "      <td>294</td>\n",
       "      <td>NaN</td>\n",
       "      <td>4.0</td>\n",
       "      <td>5.0</td>\n",
       "      <td>753</td>\n",
       "      <td>13</td>\n",
       "    </tr>\n",
       "    <tr>\n",
       "      <td>3</td>\n",
       "      <td>166</td>\n",
       "      <td>4</td>\n",
       "      <td>275</td>\n",
       "      <td>NaN</td>\n",
       "      <td>11.0</td>\n",
       "      <td>4.1</td>\n",
       "      <td>6233</td>\n",
       "      <td>13</td>\n",
       "    </tr>\n",
       "    <tr>\n",
       "      <td>4</td>\n",
       "      <td>3261</td>\n",
       "      <td>7</td>\n",
       "      <td>219</td>\n",
       "      <td>NaN</td>\n",
       "      <td>9.0</td>\n",
       "      <td>4.4</td>\n",
       "      <td>3787</td>\n",
       "      <td>13</td>\n",
       "    </tr>\n",
       "  </tbody>\n",
       "</table>\n",
       "</div>"
      ],
      "text/plain": [
       "   Author  BookCategory  Genre  Price  Ratings  Reviews  Title  Edition_Type\n",
       "0    3769             5    304    NaN    960.0      4.4   5087            12\n",
       "1    1303             4    255    NaN      1.0      5.0   2907            13\n",
       "2     887             9    294    NaN      4.0      5.0    753            13\n",
       "3     166             4    275    NaN     11.0      4.1   6233            13\n",
       "4    3261             7    219    NaN      9.0      4.4   3787            13"
      ]
     },
     "execution_count": 137,
     "metadata": {},
     "output_type": "execute_result"
    }
   ],
   "source": [
    "test.head()"
   ]
  },
  {
   "cell_type": "code",
   "execution_count": 138,
   "metadata": {},
   "outputs": [
    {
     "data": {
      "text/html": [
       "<div>\n",
       "<style scoped>\n",
       "    .dataframe tbody tr th:only-of-type {\n",
       "        vertical-align: middle;\n",
       "    }\n",
       "\n",
       "    .dataframe tbody tr th {\n",
       "        vertical-align: top;\n",
       "    }\n",
       "\n",
       "    .dataframe thead th {\n",
       "        text-align: right;\n",
       "    }\n",
       "</style>\n",
       "<table border=\"1\" class=\"dataframe\">\n",
       "  <thead>\n",
       "    <tr style=\"text-align: right;\">\n",
       "      <th></th>\n",
       "      <th>Author</th>\n",
       "      <th>BookCategory</th>\n",
       "      <th>Genre</th>\n",
       "      <th>Ratings</th>\n",
       "      <th>Reviews</th>\n",
       "      <th>Title</th>\n",
       "      <th>Edition_Type</th>\n",
       "    </tr>\n",
       "  </thead>\n",
       "  <tbody>\n",
       "    <tr>\n",
       "      <td>0</td>\n",
       "      <td>3769</td>\n",
       "      <td>5</td>\n",
       "      <td>304</td>\n",
       "      <td>960.0</td>\n",
       "      <td>4.4</td>\n",
       "      <td>5087</td>\n",
       "      <td>12</td>\n",
       "    </tr>\n",
       "    <tr>\n",
       "      <td>1</td>\n",
       "      <td>1303</td>\n",
       "      <td>4</td>\n",
       "      <td>255</td>\n",
       "      <td>1.0</td>\n",
       "      <td>5.0</td>\n",
       "      <td>2907</td>\n",
       "      <td>13</td>\n",
       "    </tr>\n",
       "    <tr>\n",
       "      <td>2</td>\n",
       "      <td>887</td>\n",
       "      <td>9</td>\n",
       "      <td>294</td>\n",
       "      <td>4.0</td>\n",
       "      <td>5.0</td>\n",
       "      <td>753</td>\n",
       "      <td>13</td>\n",
       "    </tr>\n",
       "    <tr>\n",
       "      <td>3</td>\n",
       "      <td>166</td>\n",
       "      <td>4</td>\n",
       "      <td>275</td>\n",
       "      <td>11.0</td>\n",
       "      <td>4.1</td>\n",
       "      <td>6233</td>\n",
       "      <td>13</td>\n",
       "    </tr>\n",
       "    <tr>\n",
       "      <td>4</td>\n",
       "      <td>3261</td>\n",
       "      <td>7</td>\n",
       "      <td>219</td>\n",
       "      <td>9.0</td>\n",
       "      <td>4.4</td>\n",
       "      <td>3787</td>\n",
       "      <td>13</td>\n",
       "    </tr>\n",
       "  </tbody>\n",
       "</table>\n",
       "</div>"
      ],
      "text/plain": [
       "   Author  BookCategory  Genre  Ratings  Reviews  Title  Edition_Type\n",
       "0    3769             5    304    960.0      4.4   5087            12\n",
       "1    1303             4    255      1.0      5.0   2907            13\n",
       "2     887             9    294      4.0      5.0    753            13\n",
       "3     166             4    275     11.0      4.1   6233            13\n",
       "4    3261             7    219      9.0      4.4   3787            13"
      ]
     },
     "execution_count": 138,
     "metadata": {},
     "output_type": "execute_result"
    }
   ],
   "source": [
    "test = test.drop('Price',axis = 1)\n",
    "test.head()"
   ]
  },
  {
   "cell_type": "code",
   "execution_count": 133,
   "metadata": {},
   "outputs": [
    {
     "data": {
      "text/html": [
       "<div>\n",
       "<style scoped>\n",
       "    .dataframe tbody tr th:only-of-type {\n",
       "        vertical-align: middle;\n",
       "    }\n",
       "\n",
       "    .dataframe tbody tr th {\n",
       "        vertical-align: top;\n",
       "    }\n",
       "\n",
       "    .dataframe thead th {\n",
       "        text-align: right;\n",
       "    }\n",
       "</style>\n",
       "<table border=\"1\" class=\"dataframe\">\n",
       "  <thead>\n",
       "    <tr style=\"text-align: right;\">\n",
       "      <th></th>\n",
       "      <th>Price</th>\n",
       "    </tr>\n",
       "  </thead>\n",
       "  <tbody>\n",
       "    <tr>\n",
       "      <td>0</td>\n",
       "      <td>119</td>\n",
       "    </tr>\n",
       "    <tr>\n",
       "      <td>1</td>\n",
       "      <td>123</td>\n",
       "    </tr>\n",
       "    <tr>\n",
       "      <td>2</td>\n",
       "      <td>108</td>\n",
       "    </tr>\n",
       "    <tr>\n",
       "      <td>3</td>\n",
       "      <td>118</td>\n",
       "    </tr>\n",
       "    <tr>\n",
       "      <td>4</td>\n",
       "      <td>132</td>\n",
       "    </tr>\n",
       "  </tbody>\n",
       "</table>\n",
       "</div>"
      ],
      "text/plain": [
       "   Price\n",
       "0    119\n",
       "1    123\n",
       "2    108\n",
       "3    118\n",
       "4    132"
      ]
     },
     "execution_count": 133,
     "metadata": {},
     "output_type": "execute_result"
    }
   ],
   "source": [
    "out = pd.read_excel(\"E:\\\\Hackthon\\\\Participants_Data Book Sales\\\\Sample_Submission.xlsx\")\n",
    "out.head()"
   ]
  },
  {
   "cell_type": "code",
   "execution_count": 139,
   "metadata": {},
   "outputs": [
    {
     "data": {
      "text/plain": [
       "array([ 225.07011272, 1096.54435441,  593.1123898 , ...,  393.20673916,\n",
       "        507.12477836,  393.20673916])"
      ]
     },
     "execution_count": 139,
     "metadata": {},
     "output_type": "execute_result"
    }
   ],
   "source": [
    "regressor.predict(test)"
   ]
  },
  {
   "cell_type": "code",
   "execution_count": 140,
   "metadata": {},
   "outputs": [],
   "source": [
    "out['Price'] = regressor.predict(test)"
   ]
  },
  {
   "cell_type": "code",
   "execution_count": 141,
   "metadata": {},
   "outputs": [],
   "source": [
    "out.to_csv(\"E:\\Sample_Submission.csv\")"
   ]
  },
  {
   "cell_type": "code",
   "execution_count": null,
   "metadata": {},
   "outputs": [],
   "source": []
  }
 ],
 "metadata": {
  "kernelspec": {
   "display_name": "Python 3",
   "language": "python",
   "name": "python3"
  },
  "language_info": {
   "codemirror_mode": {
    "name": "ipython",
    "version": 3
   },
   "file_extension": ".py",
   "mimetype": "text/x-python",
   "name": "python",
   "nbconvert_exporter": "python",
   "pygments_lexer": "ipython3",
   "version": "3.7.4"
  }
 },
 "nbformat": 4,
 "nbformat_minor": 2
}
